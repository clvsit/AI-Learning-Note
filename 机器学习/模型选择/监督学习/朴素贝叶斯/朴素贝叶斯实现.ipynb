{
 "cells": [
  {
   "cell_type": "code",
   "execution_count": 1,
   "metadata": {},
   "outputs": [],
   "source": [
    "import numpy as np\n",
    "import pandas as pd"
   ]
  },
  {
   "cell_type": "code",
   "execution_count": 2,
   "metadata": {},
   "outputs": [],
   "source": [
    "df_dataset = pd.read_csv('dataset.csv')"
   ]
  },
  {
   "cell_type": "code",
   "execution_count": 3,
   "metadata": {},
   "outputs": [
    {
     "data": {
      "text/html": [
       "<div>\n",
       "<style scoped>\n",
       "    .dataframe tbody tr th:only-of-type {\n",
       "        vertical-align: middle;\n",
       "    }\n",
       "\n",
       "    .dataframe tbody tr th {\n",
       "        vertical-align: top;\n",
       "    }\n",
       "\n",
       "    .dataframe thead th {\n",
       "        text-align: right;\n",
       "    }\n",
       "</style>\n",
       "<table border=\"1\" class=\"dataframe\">\n",
       "  <thead>\n",
       "    <tr style=\"text-align: right;\">\n",
       "      <th></th>\n",
       "      <th>毕业学校是否985</th>\n",
       "      <th>学历</th>\n",
       "      <th>技能</th>\n",
       "      <th>是否被录取</th>\n",
       "    </tr>\n",
       "  </thead>\n",
       "  <tbody>\n",
       "    <tr>\n",
       "      <th>0</th>\n",
       "      <td>Yes</td>\n",
       "      <td>本科</td>\n",
       "      <td>C++</td>\n",
       "      <td>No</td>\n",
       "    </tr>\n",
       "    <tr>\n",
       "      <th>1</th>\n",
       "      <td>Yes</td>\n",
       "      <td>本科</td>\n",
       "      <td>Java</td>\n",
       "      <td>Yes</td>\n",
       "    </tr>\n",
       "    <tr>\n",
       "      <th>2</th>\n",
       "      <td>No</td>\n",
       "      <td>硕士</td>\n",
       "      <td>Java</td>\n",
       "      <td>Yes</td>\n",
       "    </tr>\n",
       "    <tr>\n",
       "      <th>3</th>\n",
       "      <td>No</td>\n",
       "      <td>硕士</td>\n",
       "      <td>C++</td>\n",
       "      <td>No</td>\n",
       "    </tr>\n",
       "    <tr>\n",
       "      <th>4</th>\n",
       "      <td>Yes</td>\n",
       "      <td>本科</td>\n",
       "      <td>Java</td>\n",
       "      <td>Yes</td>\n",
       "    </tr>\n",
       "    <tr>\n",
       "      <th>5</th>\n",
       "      <td>No</td>\n",
       "      <td>硕士</td>\n",
       "      <td>C++</td>\n",
       "      <td>No</td>\n",
       "    </tr>\n",
       "    <tr>\n",
       "      <th>6</th>\n",
       "      <td>Yes</td>\n",
       "      <td>硕士</td>\n",
       "      <td>Java</td>\n",
       "      <td>Yes</td>\n",
       "    </tr>\n",
       "    <tr>\n",
       "      <th>7</th>\n",
       "      <td>Yes</td>\n",
       "      <td>博士</td>\n",
       "      <td>C++</td>\n",
       "      <td>Yes</td>\n",
       "    </tr>\n",
       "    <tr>\n",
       "      <th>8</th>\n",
       "      <td>No</td>\n",
       "      <td>博士</td>\n",
       "      <td>Java</td>\n",
       "      <td>Yes</td>\n",
       "    </tr>\n",
       "    <tr>\n",
       "      <th>9</th>\n",
       "      <td>No</td>\n",
       "      <td>本科</td>\n",
       "      <td>Java</td>\n",
       "      <td>No</td>\n",
       "    </tr>\n",
       "  </tbody>\n",
       "</table>\n",
       "</div>"
      ],
      "text/plain": [
       "  毕业学校是否985  学历    技能  是否被录取\n",
       "0       Yes  本科   C++     No\n",
       "1       Yes  本科  Java    Yes\n",
       "2        No  硕士  Java    Yes\n",
       "3        No  硕士   C++     No\n",
       "4       Yes  本科  Java    Yes\n",
       "5        No  硕士   C++     No\n",
       "6       Yes  硕士  Java    Yes\n",
       "7       Yes  博士   C++    Yes\n",
       "8        No  博士  Java    Yes\n",
       "9        No  本科  Java     No"
      ]
     },
     "execution_count": 3,
     "metadata": {},
     "output_type": "execute_result"
    }
   ],
   "source": [
    "df_dataset"
   ]
  },
  {
   "cell_type": "code",
   "execution_count": 4,
   "metadata": {},
   "outputs": [],
   "source": [
    "dataset = df_dataset.values"
   ]
  },
  {
   "cell_type": "code",
   "execution_count": 5,
   "metadata": {},
   "outputs": [],
   "source": [
    "dataset_985 = [1 if i == 'Yes' else 0 for i in dataset[:, 0]]\n",
    "dataset_skill = [1 if i == 'C++' else 0 for i in dataset[:, 2]]\n",
    "dataset_enroll = [1 if i == 'Yes' else 0 for i in dataset[:, 3]]\n",
    "dataset_degree  = []\n",
    "for data in dataset[:, 1]:\n",
    "    if data == '本科':\n",
    "        dataset_degree.append(1)\n",
    "    elif data == '硕士':\n",
    "        dataset_degree.append(2)\n",
    "    else:\n",
    "        dataset_degree.append(3)\n",
    "df_dataset_wished = pd.DataFrame(data={\n",
    "    '985': dataset_985,\n",
    "    'degree': dataset_degree,\n",
    "    'skill': dataset_skill,\n",
    "    'enroll': dataset_enroll\n",
    "})"
   ]
  },
  {
   "cell_type": "code",
   "execution_count": 6,
   "metadata": {},
   "outputs": [
    {
     "data": {
      "text/html": [
       "<div>\n",
       "<style scoped>\n",
       "    .dataframe tbody tr th:only-of-type {\n",
       "        vertical-align: middle;\n",
       "    }\n",
       "\n",
       "    .dataframe tbody tr th {\n",
       "        vertical-align: top;\n",
       "    }\n",
       "\n",
       "    .dataframe thead th {\n",
       "        text-align: right;\n",
       "    }\n",
       "</style>\n",
       "<table border=\"1\" class=\"dataframe\">\n",
       "  <thead>\n",
       "    <tr style=\"text-align: right;\">\n",
       "      <th></th>\n",
       "      <th>985</th>\n",
       "      <th>degree</th>\n",
       "      <th>skill</th>\n",
       "      <th>enroll</th>\n",
       "    </tr>\n",
       "  </thead>\n",
       "  <tbody>\n",
       "    <tr>\n",
       "      <th>0</th>\n",
       "      <td>1</td>\n",
       "      <td>1</td>\n",
       "      <td>1</td>\n",
       "      <td>0</td>\n",
       "    </tr>\n",
       "    <tr>\n",
       "      <th>1</th>\n",
       "      <td>1</td>\n",
       "      <td>1</td>\n",
       "      <td>0</td>\n",
       "      <td>1</td>\n",
       "    </tr>\n",
       "    <tr>\n",
       "      <th>2</th>\n",
       "      <td>0</td>\n",
       "      <td>2</td>\n",
       "      <td>0</td>\n",
       "      <td>1</td>\n",
       "    </tr>\n",
       "    <tr>\n",
       "      <th>3</th>\n",
       "      <td>0</td>\n",
       "      <td>2</td>\n",
       "      <td>1</td>\n",
       "      <td>0</td>\n",
       "    </tr>\n",
       "    <tr>\n",
       "      <th>4</th>\n",
       "      <td>1</td>\n",
       "      <td>1</td>\n",
       "      <td>0</td>\n",
       "      <td>1</td>\n",
       "    </tr>\n",
       "    <tr>\n",
       "      <th>5</th>\n",
       "      <td>0</td>\n",
       "      <td>2</td>\n",
       "      <td>1</td>\n",
       "      <td>0</td>\n",
       "    </tr>\n",
       "    <tr>\n",
       "      <th>6</th>\n",
       "      <td>1</td>\n",
       "      <td>2</td>\n",
       "      <td>0</td>\n",
       "      <td>1</td>\n",
       "    </tr>\n",
       "    <tr>\n",
       "      <th>7</th>\n",
       "      <td>1</td>\n",
       "      <td>3</td>\n",
       "      <td>1</td>\n",
       "      <td>1</td>\n",
       "    </tr>\n",
       "    <tr>\n",
       "      <th>8</th>\n",
       "      <td>0</td>\n",
       "      <td>3</td>\n",
       "      <td>0</td>\n",
       "      <td>1</td>\n",
       "    </tr>\n",
       "    <tr>\n",
       "      <th>9</th>\n",
       "      <td>0</td>\n",
       "      <td>1</td>\n",
       "      <td>0</td>\n",
       "      <td>0</td>\n",
       "    </tr>\n",
       "  </tbody>\n",
       "</table>\n",
       "</div>"
      ],
      "text/plain": [
       "   985  degree  skill  enroll\n",
       "0    1       1      1       0\n",
       "1    1       1      0       1\n",
       "2    0       2      0       1\n",
       "3    0       2      1       0\n",
       "4    1       1      0       1\n",
       "5    0       2      1       0\n",
       "6    1       2      0       1\n",
       "7    1       3      1       1\n",
       "8    0       3      0       1\n",
       "9    0       1      0       0"
      ]
     },
     "execution_count": 6,
     "metadata": {},
     "output_type": "execute_result"
    }
   ],
   "source": [
    "df_dataset_wished"
   ]
  },
  {
   "cell_type": "code",
   "execution_count": 7,
   "metadata": {},
   "outputs": [],
   "source": [
    "dataset_wished = df_dataset_wished.values\n",
    "x = dataset_wished[:, 0:3]\n",
    "y = dataset_wished[:, 3]"
   ]
  },
  {
   "cell_type": "code",
   "execution_count": 8,
   "metadata": {},
   "outputs": [],
   "source": [
    "class Bayes:\n",
    "    \n",
    "    def __init__(self):\n",
    "        pass\n",
    "    \n",
    "    def fit(self, dataset, labels):\n",
    "        labels_count, feature_count = len(labels), dataset.shape[1]\n",
    "        datasets = np.hstack((dataset, labels.reshape((labels_count, 1))))\n",
    "        p_labels, p_conditions = {}, {}\n",
    "        # 类别数\n",
    "        labels_type_count = len(set(labels))\n",
    "        \n",
    "        for label in set(labels):            \n",
    "            dataset_label = datasets[datasets[:, -1] == label]\n",
    "            dataset_label_length = dataset_label.shape[0]\n",
    "            # 计算先验概率\n",
    "            p_label = (dataset_label_length + 1) / (labels_count + labels_type_count)\n",
    "            p_labels[label] = p_label\n",
    "            p_conditions[label] = {}\n",
    "            \n",
    "            # 计算条件概率\n",
    "            for feature in range(feature_count):\n",
    "                p_conditions[label][feature] = {}\n",
    "                dataset_label_feature = dataset_label[:, feature]\n",
    "                # 当前特征的取值数\n",
    "                feature_value_count = len(set(dataset_label_feature))\n",
    "                for feature_value in set(dataset_label_feature):\n",
    "                    p_conditions[label][feature][feature_value] = (dataset_label_feature[dataset_label_feature==feature_value].shape[0] + 1) / (dataset_label_length + feature_value_count)\n",
    "        self.p_labels_ = p_labels\n",
    "        self.p_conditions_ = p_conditions\n",
    "    \n",
    "    def predict(self, dataset):\n",
    "        result = []\n",
    "        \n",
    "        for data in dataset:\n",
    "            p = []\n",
    "            for label in set(self.p_labels_):\n",
    "                p_label = np.log(self.p_labels_[label])\n",
    "                p_condition = 0\n",
    "                feature_index = 0\n",
    "                for feature_value in data:\n",
    "                    p_condition += np.log(self.p_conditions_[label][feature_index][feature_value])\n",
    "                    feature_index += 1\n",
    "                p.append(p_label + p_condition)\n",
    "            result.append(np.argmax(p))\n",
    "        return result"
   ]
  },
  {
   "cell_type": "code",
   "execution_count": 9,
   "metadata": {},
   "outputs": [
    {
     "name": "stdout",
     "output_type": "stream",
     "text": [
      "[0, 0]\n"
     ]
    }
   ],
   "source": [
    "bayes = Bayes()\n",
    "bayes.fit(x, y)\n",
    "print(bayes.predict([[1, 1, 1], [0, 1, 1]]))"
   ]
  },
  {
   "cell_type": "code",
   "execution_count": 10,
   "metadata": {},
   "outputs": [
    {
     "data": {
      "text/plain": [
       "{0: 0.4166666666666667, 1: 0.5833333333333334}"
      ]
     },
     "execution_count": 10,
     "metadata": {},
     "output_type": "execute_result"
    }
   ],
   "source": [
    "bayes.p_labels_"
   ]
  },
  {
   "cell_type": "code",
   "execution_count": 11,
   "metadata": {},
   "outputs": [
    {
     "data": {
      "text/plain": [
       "{0: {0: {0: 0.6666666666666666, 1: 0.3333333333333333},\n",
       "  1: {1: 0.5, 2: 0.5},\n",
       "  2: {0: 0.3333333333333333, 1: 0.6666666666666666}},\n",
       " 1: {0: {0: 0.375, 1: 0.625},\n",
       "  1: {1: 0.3333333333333333, 2: 0.3333333333333333, 3: 0.3333333333333333},\n",
       "  2: {0: 0.75, 1: 0.25}}}"
      ]
     },
     "execution_count": 11,
     "metadata": {},
     "output_type": "execute_result"
    }
   ],
   "source": [
    "bayes.p_conditions_"
   ]
  }
 ],
 "metadata": {
  "kernelspec": {
   "display_name": "Python 3",
   "language": "python",
   "name": "python3"
  },
  "language_info": {
   "codemirror_mode": {
    "name": "ipython",
    "version": 3
   },
   "file_extension": ".py",
   "mimetype": "text/x-python",
   "name": "python",
   "nbconvert_exporter": "python",
   "pygments_lexer": "ipython3",
   "version": "3.7.1"
  },
  "latex_envs": {
   "LaTeX_envs_menu_present": true,
   "autoclose": false,
   "autocomplete": true,
   "bibliofile": "biblio.bib",
   "cite_by": "apalike",
   "current_citInitial": 1,
   "eqLabelWithNumbers": true,
   "eqNumInitial": 1,
   "hotkeys": {
    "equation": "Ctrl-E",
    "itemize": "Ctrl-I"
   },
   "labels_anchors": false,
   "latex_user_defs": false,
   "report_style_numbering": false,
   "user_envs_cfg": false
  }
 },
 "nbformat": 4,
 "nbformat_minor": 2
}
