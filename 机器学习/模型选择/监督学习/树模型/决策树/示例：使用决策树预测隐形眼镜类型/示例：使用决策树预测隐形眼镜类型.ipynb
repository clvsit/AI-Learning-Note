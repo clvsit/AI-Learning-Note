{
 "cells": [
  {
   "cell_type": "markdown",
   "metadata": {},
   "source": [
    "## 示例：使用决策树预测隐形眼镜类型"
   ]
  },
  {
   "cell_type": "markdown",
   "metadata": {},
   "source": [
    "本节通过一个例子讲解决策树如何预测患者需要佩戴的隐形眼镜类型。使用小数据集，我们就可以利用决策树学到很多知识：眼科医生是如何判断患者需要佩戴的镜片类型；一旦理解决策树的工作原理，我们也可以帮助人们判断需要佩戴的镜片类型。\n",
    "\n",
    "【步骤】：\n",
    "- 收集数据：提供的文本文件；\n",
    "- 准备数据：解析 tab 键分隔的数据行；\n",
    "- 分析数据：快速检查数据，确保正确地解析数据内容，使用 create_plot() 函数绘制最终的树形图；\n",
    "- 训练算法：使用先前已经准备好的 create_tree() 函数；\n",
    "- 测试算法：编写测试函数验证决策树可以正确分类给定的数据实例；\n",
    "- 使用算法：存储树的数据结构，以便下次使用时无需重新构造树。\n",
    "\n",
    "隐形眼镜数据集是非常著名的数据集，它包含很多患者眼部状况的观察条件以及医生推荐的隐形眼镜类型。隐形眼镜类型包括硬材质、软材质以及不适合佩戴隐形眼镜。数据来源于 UCI 数据库，为了更容易显示数据，本节对数据作了简单的更改。"
   ]
  },
  {
   "cell_type": "markdown",
   "metadata": {},
   "source": [
    "### 前置准备"
   ]
  },
  {
   "cell_type": "code",
   "execution_count": 12,
   "metadata": {},
   "outputs": [],
   "source": [
    "from math import log\n",
    "import operator\n",
    "from matplotlib import pyplot as plt\n",
    "\n",
    "\n",
    "def calc_shannon_ent(dataset):\n",
    "    num_entries = len(dataset)\n",
    "    label_counts = {}\n",
    "    for feat_vec in dataset:\n",
    "        current_label = feat_vec[-1]\n",
    "        if current_label not in label_counts.keys():\n",
    "            label_counts[current_label] = 0\n",
    "        label_counts[current_label] += 1\n",
    "    shannon_ent = 0.0\n",
    "    for key in label_counts:\n",
    "        prob = float(label_counts[key]) / num_entries\n",
    "        shannon_ent -= prob * log(prob, 2)\n",
    "    return shannon_ent\n",
    "\n",
    "\n",
    "def split_dataset(dataset, axis, value):\n",
    "    ret_dataset = []\n",
    "    for feat_vec in dataset:\n",
    "        if feat_vec[axis] == value:\n",
    "            reduced_feat_vec = feat_vec[:axis]\n",
    "            reduced_feat_vec.extend(feat_vec[axis + 1:])\n",
    "            ret_dataset.append(reduced_feat_vec)\n",
    "    return ret_dataset\n",
    "\n",
    "\n",
    "def choose_best_feature_to_split(dataset):\n",
    "    num_features = len(dataset[0]) - 1\n",
    "    # 计算整个数据集的原始想农熵\n",
    "    base_entropy = calc_shannon_ent(dataset)\n",
    "    best_info_gain, best_feature = 0.0, -1\n",
    "    for i in range(num_features):\n",
    "        feat_list = [example[i] for example in dataset]\n",
    "        # 创建唯一的分类标签列表\n",
    "        unique_vals = set(feat_list)\n",
    "        new_entropy = 0.0\n",
    "        # 计算每种划分方式的信息熵\n",
    "        for value in unique_vals:\n",
    "            sub_dataset = split_dataset(dataset, i, value)\n",
    "            prob = len(sub_dataset) / float(len(dataset))\n",
    "            new_entropy += prob * calc_shannon_ent(sub_dataset)\n",
    "        info_gain = base_entropy - new_entropy\n",
    "        # 计算最好的信息增益\n",
    "        if info_gain > best_info_gain:\n",
    "            best_info_gain, best_feature = info_gain, i\n",
    "    return best_feature\n",
    "\n",
    "\n",
    "def majority_cnt(class_list):\n",
    "    class_count = {}\n",
    "    for vote in class_list:\n",
    "        if vote not in class_count.keys():\n",
    "            class_count[vote] = 0\n",
    "        class_count[vote] += 1\n",
    "    sorted_class_count = sorted(class_count.items(), key=operator.itemgetter(1), reverse=True)\n",
    "    return sorted_class_count[0][0]\n",
    "\n",
    "\n",
    "def create_tree(dataset, labels):\n",
    "    class_list = [example[-1] for example in dataset]\n",
    "    # 类别完全相同则停止继续划分\n",
    "    if class_list.count(class_list[0]) == len(class_list):\n",
    "        return class_list[0]\n",
    "    # 遍历完所有特征时返回出现次数最多的类别\n",
    "    if len(dataset[0]) == 1:\n",
    "        return majority_cnt(class_list)\n",
    "    # 找寻最好的属性，进行划分\n",
    "    best_feat = choose_best_feature_to_split(dataset)\n",
    "    best_feat_label = labels[best_feat]\n",
    "    # 得到列表包含的所有属性值\n",
    "    my_tree = {best_feat_label: {}}\n",
    "    del(labels[best_feat])\n",
    "    feat_values = [example[best_feat] for example in dataset]\n",
    "    unique_vals = set(feat_values)\n",
    "    # 遍历当前选择特征包含的所有属性值，在每个数据集划分上递归调用函数 create_tree()\n",
    "    for value in unique_vals:\n",
    "        sub_labels = labels[:]\n",
    "        # 得到的返回值将被插入到字典变量 my_tree 中。\n",
    "        my_tree[best_feat_label][value] = create_tree(split_dataset(dataset, best_feat, value), sub_labels)\n",
    "    return my_tree\n",
    "\n",
    "\n",
    "# 定义文本框和箭头格式\n",
    "decision_node = dict(boxstyle='sawtooth', fc='0.8')\n",
    "leaf_node = dict(boxstyle='round4', fc='0.8')\n",
    "arrow_args = dict(arrowstyle='<-')\n",
    "\n",
    "\n",
    "def plot_tree(my_tree, parent_pt, node_txt):\n",
    "    # 计算树的宽和高\n",
    "    num_leafs = get_num_leafs(my_tree)\n",
    "    depth = get_tree_depth(my_tree)\n",
    "    first_str = list(my_tree.keys())[0]\n",
    "    # 计算树节点的摆放位置，绘制在水平方向和垂直方向的中心位置\n",
    "    cntr_pt = (plot_tree.xOff + (1.0 + float(num_leafs)) / 2.0 / plot_tree.totalW, plot_tree.yOff)\n",
    "    # 进行文本和节点绘制\n",
    "    plot_mid_text(cntr_pt, parent_pt, node_txt)\n",
    "    plot_node(first_str, cntr_pt, parent_pt, decision_node)\n",
    "    second_dict = my_tree[first_str]\n",
    "    # 按比例减少 plot_tree.yOff\n",
    "    plot_tree.yOff = plot_tree.yOff - 1.0 / plot_tree.totalD\n",
    "    for key in second_dict.keys():\n",
    "        if type(second_dict[key]).__name__ == 'dict':\n",
    "            plot_tree(second_dict[key], cntr_pt, str(key))\n",
    "        else:\n",
    "            plot_tree.xOff = plot_tree.xOff + 1.0 / plot_tree.totalW\n",
    "            plot_node(second_dict[key], (plot_tree.xOff, plot_tree.yOff), cntr_pt, leaf_node)\n",
    "            plot_mid_text((plot_tree.xOff, plot_tree.yOff), cntr_pt, str(key))\n",
    "    plot_tree.yOff = plot_tree.yOff + 1.0 / plot_tree.totalD\n",
    "\n",
    "    \n",
    "def plot_node(node_txt, center_pt, parent_pt, node_type):\n",
    "    # 绘制带箭头的注解\n",
    "    create_plot.ax1.annotate(node_txt, xy=parent_pt, xycoords='axes fraction', \n",
    "                            xytext=center_pt, textcoords='axes fraction', va='center', ha='center', \n",
    "                             bbox=node_type, arrowprops=arrow_args)\n",
    "\n",
    "    \n",
    "def get_num_leafs(my_tree):\n",
    "    num_leafs = 0\n",
    "    first_str = list(my_tree.keys())[0]\n",
    "    second_dict = my_tree[first_str]\n",
    "    for key in second_dict.keys():\n",
    "        if type(second_dict[key]).__name__ == 'dict':\n",
    "            num_leafs += get_num_leafs(second_dict[key])\n",
    "        else:\n",
    "            num_leafs += 1\n",
    "    return num_leafs\n",
    "    \n",
    "\n",
    "def get_tree_depth(my_tree):\n",
    "    max_depth = 0\n",
    "    first_str = list(my_tree.keys())[0]\n",
    "    second_dict = my_tree[first_str]\n",
    "    for key in second_dict.keys():\n",
    "        if type(second_dict[key]).__name__ == 'dict':\n",
    "            this_depth = 1 + get_tree_depth(second_dict[key])\n",
    "        else:\n",
    "            this_depth = 1\n",
    "        if this_depth > max_depth:\n",
    "            max_depth = this_depth\n",
    "    return max_depth\n",
    "    \n",
    "    \n",
    "def plot_mid_text(cntr_pt, parent_pt, txt_string):\n",
    "    x_mid = (parent_pt[0] - cntr_pt[0]) / 2.0 + cntr_pt[0]\n",
    "    y_mid = (parent_pt[1] - cntr_pt[1]) / 2.0 + cntr_pt[1]\n",
    "    create_plot.ax1.text(x_mid, y_mid, txt_string)\n",
    "    \n",
    "\n",
    "def create_plot(in_tree):\n",
    "    fig = plt.figure(1, facecolor='white')\n",
    "    fig.clf()\n",
    "    axprops = dict(xticks=[], yticks=[])\n",
    "    create_plot.ax1 = plt.subplot(111, frameon=False, **axprops)\n",
    "    plot_tree.totalW = float(get_num_leafs(in_tree))\n",
    "    plot_tree.totalD = float(get_tree_depth(in_tree))\n",
    "    plot_tree.xOff = -0.5 / plot_tree.totalW\n",
    "    plot_tree.yOff = 1.0\n",
    "    plot_tree(in_tree, (0.5, 1.0), '')\n",
    "    plt.show()"
   ]
  },
  {
   "cell_type": "code",
   "execution_count": 3,
   "metadata": {},
   "outputs": [],
   "source": [
    "with open('data/lenses.txt') as file:\n",
    "    lenses = [inst.strip().split('\\t') for inst in file.readlines()]\n",
    "    lenses_labels = ['age', 'prescript', 'astigmatic', 'tearRate']\n",
    "    lenses_tree = create_tree(lenses, lenses_labels)"
   ]
  },
  {
   "cell_type": "code",
   "execution_count": 4,
   "metadata": {},
   "outputs": [
    {
     "data": {
      "text/plain": [
       "{'tearRate': {'normal': {'astigmatic': {'no': {'age': {'pre': 'soft',\n",
       "      'presbyopic': {'prescript': {'myope': 'no lenses', 'hyper': 'soft'}},\n",
       "      'young': 'soft'}},\n",
       "    'yes': {'prescript': {'myope': 'hard',\n",
       "      'hyper': {'age': {'pre': 'no lenses',\n",
       "        'presbyopic': 'no lenses',\n",
       "        'young': 'hard'}}}}}},\n",
       "  'reduced': 'no lenses'}}"
      ]
     },
     "execution_count": 4,
     "metadata": {},
     "output_type": "execute_result"
    }
   ],
   "source": [
    "lenses_tree"
   ]
  },
  {
   "cell_type": "markdown",
   "metadata": {},
   "source": [
    "采用文本方式很难分辨出决策树的模样，我们再调用 create_plot() 函数绘制树形图。"
   ]
  },
  {
   "cell_type": "code",
   "execution_count": 13,
   "metadata": {},
   "outputs": [
    {
     "data": {
      "image/png": "[encoded data removed]",
      "text/plain": [
       "<Figure size 432x288 with 1 Axes>"
      ]
     },
     "metadata": {},
     "output_type": "display_data"
    }
   ],
   "source": [
    "create_plot(lenses_tree)"
   ]
  },
  {
   "cell_type": "markdown",
   "metadata": {},
   "source": [
    "上图所示的决策树非常好地匹配了实验数据，然而这些匹配选项可能太多了。我们将这种问题称之为过度匹配（overfitting）。为了减少过度匹配问题，我们可以裁剪决策树，去掉一些不必要的叶子节点。如果叶子节点只能增加少许信息，则可以删除该节点，将它并入到其他叶子节点中。"
   ]
  }
 ],
 "metadata": {
  "kernelspec": {
   "display_name": "Python 3",
   "language": "python",
   "name": "python3"
  },
  "language_info": {
   "codemirror_mode": {
    "name": "ipython",
    "version": 3
   },
   "file_extension": ".py",
   "mimetype": "text/x-python",
   "name": "python",
   "nbconvert_exporter": "python",
   "pygments_lexer": "ipython3",
   "version": "3.7.1"
  },
  "latex_envs": {
   "LaTeX_envs_menu_present": true,
   "autoclose": false,
   "autocomplete": true,
   "bibliofile": "biblio.bib",
   "cite_by": "apalike",
   "current_citInitial": 1,
   "eqLabelWithNumbers": true,
   "eqNumInitial": 1,
   "hotkeys": {
    "equation": "Ctrl-E",
    "itemize": "Ctrl-I"
   },
   "labels_anchors": false,
   "latex_user_defs": false,
   "report_style_numbering": false,
   "user_envs_cfg": false
  }
 },
 "nbformat": 4,
 "nbformat_minor": 2
}
