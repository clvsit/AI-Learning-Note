{
 "cells": [
  {
   "cell_type": "code",
   "execution_count": 1,
   "metadata": {},
   "outputs": [],
   "source": [
    "%matplotlib inline\n",
    "import numpy as np\n",
    "from matplotlib import pyplot as plt"
   ]
  },
  {
   "cell_type": "code",
   "execution_count": 2,
   "metadata": {},
   "outputs": [],
   "source": [
    "dataset = np.array([\n",
    "    [1, 7],\n",
    "    [2, 13],\n",
    "    [3, 17],\n",
    "    [4, 22],\n",
    "    [5, 27],\n",
    "    [6, 33],\n",
    "    [7, 38],\n",
    "    [8, 42],\n",
    "    [9, 46],\n",
    "    [10, 52]\n",
    "])"
   ]
  },
  {
   "cell_type": "code",
   "execution_count": 3,
   "metadata": {},
   "outputs": [],
   "source": [
    "x = dataset[:, 0:1]\n",
    "y = dataset[:, 1:]"
   ]
  },
  {
   "cell_type": "markdown",
   "metadata": {},
   "source": [
    "## 动量方法-批量梯度下降"
   ]
  },
  {
   "cell_type": "code",
   "execution_count": 4,
   "metadata": {},
   "outputs": [],
   "source": [
    "def BatchGradientDescentM(x, y, step=0.001, iter_count=500, beta=0.9):\n",
    "    length, features = x.shape\n",
    "    data = np.column_stack((x, np.ones((length, 1))))\n",
    "    w = np.zeros((features + 1, 1))\n",
    "    v = np.zeros((features + 1, 1))\n",
    "    for i in range(iter_count):\n",
    "        v = (beta * v + (1 - beta) * np.sum((np.dot(data, w) - y) * data, axis=0).reshape((features + 1, 1))) / length         \n",
    "        w -= step * v        \n",
    "    return w"
   ]
  },
  {
   "cell_type": "code",
   "execution_count": 5,
   "metadata": {},
   "outputs": [
    {
     "data": {
      "text/plain": [
       "array([[5.12168864],\n",
       "       [0.77728077]])"
      ]
     },
     "execution_count": 5,
     "metadata": {},
     "output_type": "execute_result"
    }
   ],
   "source": [
    "BatchGradientDescentM(x, y, iter_count=1000)"
   ]
  },
  {
   "cell_type": "markdown",
   "metadata": {},
   "source": [
    "## 动量方法-随机梯度下降"
   ]
  },
  {
   "cell_type": "code",
   "execution_count": 6,
   "metadata": {},
   "outputs": [],
   "source": [
    "def StochasticGradientDescentM(x, y, step=0.001, iter_count=500, beta=0.9):\n",
    "    length, features = x.shape\n",
    "    data = np.column_stack((x, np.ones((length, 1))))\n",
    "    w = np.zeros((features + 1, 1))\n",
    "    v = np.zeros((features + 1, 1))\n",
    "    for i in range(iter_count):\n",
    "        random_ind = np.random.randint(length)\n",
    "        dw = (np.dot(data[random_ind], w) - y[random_ind]) * data[random_ind]\n",
    "        v = (beta * v + (1 - beta) * dw.reshape((features + 1, 1))) / length        \n",
    "        w -= step * v\n",
    "    return w"
   ]
  },
  {
   "cell_type": "code",
   "execution_count": 7,
   "metadata": {},
   "outputs": [
    {
     "data": {
      "text/plain": [
       "array([[5.1217052],\n",
       "       [0.7789374]])"
      ]
     },
     "execution_count": 7,
     "metadata": {},
     "output_type": "execute_result"
    }
   ],
   "source": [
    "StochasticGradientDescentM(x, y, iter_count=10000)"
   ]
  },
  {
   "cell_type": "markdown",
   "metadata": {},
   "source": [
    "## 动量方法-小批量梯度下降"
   ]
  },
  {
   "cell_type": "code",
   "execution_count": 8,
   "metadata": {},
   "outputs": [],
   "source": [
    "def MiniBatchGradientDescentM(x, y, step=0.001, iter_count=500, batch_size=4, beta=0.9):\n",
    "    length, features = x.shape\n",
    "    data = np.column_stack((x, np.ones((length, 1))))\n",
    "    w = np.zeros((features + 1, 1))\n",
    "    v = np.zeros((features + 1, 1))\n",
    "    start, end = 0, batch_size\n",
    "    for i in range(iter_count):\n",
    "        v = (beta * v + (1 - beta) * np.sum((np.dot(data[start:end], w) - y[start:end]) * data[start:end], axis=0).reshape((features + 1, 1))) / length         \n",
    "        w -= step * v\n",
    "        start = (start + batch_size) % length\n",
    "        end = (end + batch_size) % length\n",
    "    return w"
   ]
  },
  {
   "cell_type": "code",
   "execution_count": 9,
   "metadata": {},
   "outputs": [
    {
     "data": {
      "text/plain": [
       "array([[5.24725705],\n",
       "       [1.02780271]])"
      ]
     },
     "execution_count": 9,
     "metadata": {},
     "output_type": "execute_result"
    }
   ],
   "source": [
    "MiniBatchGradientDescentM(x, y, iter_count=10000)"
   ]
  },
  {
   "cell_type": "markdown",
   "metadata": {},
   "source": [
    "## 整合写法"
   ]
  },
  {
   "cell_type": "code",
   "execution_count": 10,
   "metadata": {},
   "outputs": [],
   "source": [
    "def Momentum(x, y, step=0.01, iter_count=1000, batch_size=4, beta=0.9):\n",
    "    length, features = x.shape\n",
    "    data = np.column_stack((x, np.ones((length, 1))))\n",
    "    w = np.zeros((features + 1, 1))\n",
    "    v = np.zeros((features + 1, 1))\n",
    "    start, end = 0, batch_size\n",
    "    for i in range(iter_count):\n",
    "        v = (beta * v + (1 - beta) * np.sum((np.dot(data[start:end], w) - y[start:end]) * data[start:end], axis=0).reshape((features + 1, 1))) / length         \n",
    "        w -= step * v\n",
    "        start = (start + batch_size) % length\n",
    "        if start > length:\n",
    "            start -= length\n",
    "        end = (end + batch_size) % length\n",
    "        if end > length:\n",
    "            end -= length\n",
    "    return w"
   ]
  },
  {
   "cell_type": "code",
   "execution_count": 11,
   "metadata": {},
   "outputs": [
    {
     "data": {
      "text/plain": [
       "array([[5.00311478],\n",
       "       [0.8307453 ]])"
      ]
     },
     "execution_count": 11,
     "metadata": {},
     "output_type": "execute_result"
    }
   ],
   "source": [
    "# 批量梯度下降\n",
    "Momentum(x, y, batch_size=(x.shape[0] - 1))"
   ]
  },
  {
   "cell_type": "code",
   "execution_count": 12,
   "metadata": {},
   "outputs": [
    {
     "data": {
      "text/plain": [
       "array([[4.98144568],\n",
       "       [1.43164128]])"
      ]
     },
     "execution_count": 12,
     "metadata": {},
     "output_type": "execute_result"
    }
   ],
   "source": [
    "# 小批量梯度下降\n",
    "Momentum(x, y, batch_size=5)"
   ]
  },
  {
   "cell_type": "code",
   "execution_count": 13,
   "metadata": {},
   "outputs": [
    {
     "data": {
      "text/plain": [
       "array([[4.99294353],\n",
       "       [0.83128473]])"
      ]
     },
     "execution_count": 13,
     "metadata": {},
     "output_type": "execute_result"
    }
   ],
   "source": [
    "# 随机梯度下降\n",
    "Momentum(x, y, batch_size=1)"
   ]
  },
  {
   "cell_type": "markdown",
   "metadata": {},
   "source": [
    "## 牛顿增量"
   ]
  },
  {
   "cell_type": "code",
   "execution_count": 16,
   "metadata": {},
   "outputs": [],
   "source": [
    "def Nesterov(x, y, step=0.01, iter_count=1000, batch_size=4, beta=0.9):\n",
    "    length, features = x.shape\n",
    "    data = np.column_stack((x, np.ones((length, 1))))\n",
    "    w = np.zeros((features + 1, 1))\n",
    "    v = np.zeros((features + 1, 1))\n",
    "    start, end = 0, batch_size\n",
    "    for i in range(iter_count):\n",
    "        w_temp = w - step * v\n",
    "        v = (beta * v + (1 - beta) * np.sum((np.dot(data[start:end], w_temp) - y[start:end]) * data[start:end], axis=0).reshape((features + 1, 1))) / length         \n",
    "        w -= step * v\n",
    "        start = (start + batch_size) % length\n",
    "        if start > length:\n",
    "            start -= length\n",
    "        end = (end + batch_size) % length\n",
    "        if end > length:\n",
    "            end -= length\n",
    "    return w"
   ]
  },
  {
   "cell_type": "code",
   "execution_count": 17,
   "metadata": {},
   "outputs": [
    {
     "data": {
      "text/plain": [
       "array([[5.24702554],\n",
       "       [1.02779773]])"
      ]
     },
     "execution_count": 17,
     "metadata": {},
     "output_type": "execute_result"
    }
   ],
   "source": [
    "Nesterov(x, y)"
   ]
  }
 ],
 "metadata": {
  "kernelspec": {
   "display_name": "Python 3",
   "language": "python",
   "name": "python3"
  },
  "language_info": {
   "codemirror_mode": {
    "name": "ipython",
    "version": 3
   },
   "file_extension": ".py",
   "mimetype": "text/x-python",
   "name": "python",
   "nbconvert_exporter": "python",
   "pygments_lexer": "ipython3",
   "version": "3.7.1"
  },
  "latex_envs": {
   "LaTeX_envs_menu_present": true,
   "autoclose": false,
   "autocomplete": true,
   "bibliofile": "biblio.bib",
   "cite_by": "apalike",
   "current_citInitial": 1,
   "eqLabelWithNumbers": true,
   "eqNumInitial": 1,
   "hotkeys": {
    "equation": "Ctrl-E",
    "itemize": "Ctrl-I"
   },
   "labels_anchors": false,
   "latex_user_defs": false,
   "report_style_numbering": false,
   "user_envs_cfg": false
  }
 },
 "nbformat": 4,
 "nbformat_minor": 2
}
