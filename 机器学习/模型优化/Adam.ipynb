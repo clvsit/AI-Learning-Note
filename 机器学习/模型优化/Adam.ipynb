{
 "cells": [
  {
   "cell_type": "code",
   "execution_count": 1,
   "metadata": {},
   "outputs": [],
   "source": [
    "%matplotlib inline\n",
    "import numpy as np\n",
    "from matplotlib import pyplot as plt"
   ]
  },
  {
   "cell_type": "code",
   "execution_count": 2,
   "metadata": {},
   "outputs": [],
   "source": [
    "dataset = np.array([\n",
    "    [1, 7],\n",
    "    [2, 13],\n",
    "    [3, 17],\n",
    "    [4, 22],\n",
    "    [5, 27],\n",
    "    [6, 33],\n",
    "    [7, 38],\n",
    "    [8, 42],\n",
    "    [9, 46],\n",
    "    [10, 52]\n",
    "])"
   ]
  },
  {
   "cell_type": "code",
   "execution_count": 3,
   "metadata": {},
   "outputs": [],
   "source": [
    "x = dataset[:, 0:1]\n",
    "y = dataset[:, 1:]"
   ]
  },
  {
   "cell_type": "markdown",
   "metadata": {},
   "source": [
    "## Adam"
   ]
  },
  {
   "cell_type": "code",
   "execution_count": 4,
   "metadata": {},
   "outputs": [],
   "source": [
    "def Adam(x, y, step=0.01, iter_count=500, batch_size=4, beta1=0.9, beta2=0.999):\n",
    "    length, features = x.shape\n",
    "    data = np.column_stack((x, np.ones((length, 1))))\n",
    "    w = np.zeros((features + 1, 1))\n",
    "    v, Sdw, eta = 0, 0, 10e-8\n",
    "    start, end = 0, batch_size\n",
    "    \n",
    "    for i in range(1, iter_count + 1):\n",
    "        dw = np.sum((np.dot(data[start:end], w) - y[start:end]) * data[start:end], axis=0).reshape((features + 1, 1)) / length\n",
    "        v = beta1 * v + (1 - beta1) * dw\n",
    "        v_corrected = v / (1 - beta1**i)\n",
    "        Sdw = beta2 * Sdw + (1 - beta2) * np.dot(dw.T, dw)\n",
    "        Sdw_corrected = Sdw / (1 - beta2**i)\n",
    "        w = w - (step / np.sqrt(eta + Sdw_corrected)) * v_corrected\n",
    "        \n",
    "        start = (start + batch_size) % length\n",
    "        if start > length:\n",
    "            start -= length\n",
    "        end = (end + batch_size) % length\n",
    "        if end > length:\n",
    "            end -= length\n",
    "    return w"
   ]
  },
  {
   "cell_type": "code",
   "execution_count": 7,
   "metadata": {},
   "outputs": [
    {
     "data": {
      "text/plain": [
       "array([[5.23445306],\n",
       "       [1.01851279]])"
      ]
     },
     "execution_count": 7,
     "metadata": {},
     "output_type": "execute_result"
    }
   ],
   "source": [
    "Adam(x, y, iter_count=2000)"
   ]
  }
 ],
 "metadata": {
  "kernelspec": {
   "display_name": "Python 3",
   "language": "python",
   "name": "python3"
  },
  "language_info": {
   "codemirror_mode": {
    "name": "ipython",
    "version": 3
   },
   "file_extension": ".py",
   "mimetype": "text/x-python",
   "name": "python",
   "nbconvert_exporter": "python",
   "pygments_lexer": "ipython3",
   "version": "3.7.1"
  },
  "latex_envs": {
   "LaTeX_envs_menu_present": true,
   "autoclose": false,
   "autocomplete": true,
   "bibliofile": "biblio.bib",
   "cite_by": "apalike",
   "current_citInitial": 1,
   "eqLabelWithNumbers": true,
   "eqNumInitial": 1,
   "hotkeys": {
    "equation": "Ctrl-E",
    "itemize": "Ctrl-I"
   },
   "labels_anchors": false,
   "latex_user_defs": false,
   "report_style_numbering": false,
   "user_envs_cfg": false
  }
 },
 "nbformat": 4,
 "nbformat_minor": 2
}
