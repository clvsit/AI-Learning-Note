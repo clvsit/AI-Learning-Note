{
 "cells": [
  {
   "cell_type": "code",
   "execution_count": 1,
   "metadata": {},
   "outputs": [],
   "source": [
    "%matplotlib inline\n",
    "import numpy as np\n",
    "from matplotlib import pyplot as plt"
   ]
  },
  {
   "cell_type": "code",
   "execution_count": 2,
   "metadata": {},
   "outputs": [],
   "source": [
    "dataset = np.array([\n",
    "    [1, 7],\n",
    "    [2, 13],\n",
    "    [3, 17],\n",
    "    [4, 22],\n",
    "    [5, 27],\n",
    "    [6, 33],\n",
    "    [7, 38],\n",
    "    [8, 42],\n",
    "    [9, 46],\n",
    "    [10, 52]\n",
    "])"
   ]
  },
  {
   "cell_type": "code",
   "execution_count": 3,
   "metadata": {},
   "outputs": [],
   "source": [
    "x = dataset[:, 0:1]\n",
    "y = dataset[:, 1:]"
   ]
  },
  {
   "cell_type": "markdown",
   "metadata": {},
   "source": [
    "## AdaGrad"
   ]
  },
  {
   "cell_type": "code",
   "execution_count": 23,
   "metadata": {},
   "outputs": [],
   "source": [
    "def AdaGrad(x, y, step=0.01, iter_count=500, batch_size=4):\n",
    "    length, features = x.shape\n",
    "    data = np.column_stack((x, np.ones((length, 1))))\n",
    "    w = np.zeros((features + 1, 1))\n",
    "    r, eta = 0, 10e-7\n",
    "    start, end = 0, batch_size\n",
    "    for i in range(iter_count):\n",
    "        dw = np.sum((np.dot(data[start:end], w) - y[start:end]) * data[start:end], axis=0) / length        \n",
    "        r = r + np.dot(dw, dw)                     \n",
    "        w = w - (step / (eta + np.sqrt(r))) * dw.reshape((features + 1, 1))\n",
    "        start = (start + batch_size) % length\n",
    "        if start > length:\n",
    "            start -= length\n",
    "        end = (end + batch_size) % length\n",
    "        if end > length:\n",
    "            end -= length\n",
    "    return w"
   ]
  },
  {
   "cell_type": "code",
   "execution_count": 24,
   "metadata": {},
   "outputs": [
    {
     "data": {
      "text/plain": [
       "array([[5.19133285],\n",
       "       [1.35955132]])"
      ]
     },
     "execution_count": 24,
     "metadata": {},
     "output_type": "execute_result"
    }
   ],
   "source": [
    "AdaGrad(x, y, step=1, iter_count=1000)"
   ]
  },
  {
   "cell_type": "code",
   "execution_count": 25,
   "metadata": {},
   "outputs": [
    {
     "data": {
      "text/plain": [
       "array([[3.37157325],\n",
       "       [0.6519457 ]])"
      ]
     },
     "execution_count": 25,
     "metadata": {},
     "output_type": "execute_result"
    }
   ],
   "source": [
    "AdaGrad(x, y, step=0.1, iter_count=1000)"
   ]
  },
  {
   "cell_type": "code",
   "execution_count": 27,
   "metadata": {},
   "outputs": [
    {
     "data": {
      "text/plain": [
       "array([[4.72572017],\n",
       "       [0.91424582]])"
      ]
     },
     "execution_count": 27,
     "metadata": {},
     "output_type": "execute_result"
    }
   ],
   "source": [
    "AdaGrad(x, y, step=0.1, iter_count=3000)"
   ]
  },
  {
   "cell_type": "markdown",
   "metadata": {},
   "source": [
    "## 改进"
   ]
  },
  {
   "cell_type": "code",
   "execution_count": 28,
   "metadata": {},
   "outputs": [],
   "source": [
    "def AdaGrad(x, y, step=0.01, iter_count=500, step_count=100, batch_size=4):\n",
    "    length, features = x.shape\n",
    "    data = np.column_stack((x, np.ones((length, 1))))\n",
    "    w = np.zeros((features + 1, 1))\n",
    "    r, eta = 0, 10e-7\n",
    "    start, end = 0, batch_size\n",
    "    for i in range(iter_count):\n",
    "        dw = np.sum((np.dot(data[start:end], w) - y[start:end]) * data[start:end], axis=0) / length\n",
    "        if i > step_count:\n",
    "            r = r + np.dot(dw, dw)\n",
    "            w = w - (step / (eta + np.sqrt(r))) * dw.reshape((features + 1, 1))\n",
    "        else:\n",
    "            w -= step * dw.reshape((features + 1, 1))        \n",
    "        start = (start + batch_size) % length\n",
    "        if start > length:\n",
    "            start -= length\n",
    "        end = (end + batch_size) % length\n",
    "        if end > length:\n",
    "            end -= length\n",
    "    return w"
   ]
  },
  {
   "cell_type": "code",
   "execution_count": 30,
   "metadata": {},
   "outputs": [
    {
     "data": {
      "text/plain": [
       "array([[5.24748173],\n",
       "       [1.06459711]])"
      ]
     },
     "execution_count": 30,
     "metadata": {},
     "output_type": "execute_result"
    }
   ],
   "source": [
    "AdaGrad(x, y, iter_count=500)"
   ]
  },
  {
   "cell_type": "code",
   "execution_count": 33,
   "metadata": {},
   "outputs": [],
   "source": [
    "def AdaGrad(x, y, step=0.01, iter_count=500, step_threshold=30, batch_size=4):\n",
    "    length, features = x.shape\n",
    "    data = np.column_stack((x, np.ones((length, 1))))\n",
    "    w = np.zeros((features + 1, 1))\n",
    "    r, eta = 0, 10e-7\n",
    "    start, end = 0, batch_size\n",
    "    for i in range(iter_count):\n",
    "        dw = np.sum((np.dot(data[start:end], w) - y[start:end]) * data[start:end], axis=0) / length\n",
    "        dw2 = np.dot(dw, dw)\n",
    "        if dw2 < step_threshold:\n",
    "            r = r + dw2\n",
    "            w = w - (step / (eta + np.sqrt(r))) * dw.reshape((features + 1, 1))\n",
    "        else:\n",
    "            w -= step * dw.reshape((features + 1, 1))        \n",
    "        start = (start + batch_size) % length\n",
    "        if start > length:\n",
    "            start -= length\n",
    "        end = (end + batch_size) % length\n",
    "        if end > length:\n",
    "            end -= length\n",
    "    return w"
   ]
  },
  {
   "cell_type": "code",
   "execution_count": 34,
   "metadata": {},
   "outputs": [
    {
     "data": {
      "text/plain": [
       "array([[5.12585752],\n",
       "       [0.95310592]])"
      ]
     },
     "execution_count": 34,
     "metadata": {},
     "output_type": "execute_result"
    }
   ],
   "source": [
    "AdaGrad(x, y)"
   ]
  }
 ],
 "metadata": {
  "kernelspec": {
   "display_name": "Python 3",
   "language": "python",
   "name": "python3"
  },
  "language_info": {
   "codemirror_mode": {
    "name": "ipython",
    "version": 3
   },
   "file_extension": ".py",
   "mimetype": "text/x-python",
   "name": "python",
   "nbconvert_exporter": "python",
   "pygments_lexer": "ipython3",
   "version": "3.7.1"
  },
  "latex_envs": {
   "LaTeX_envs_menu_present": true,
   "autoclose": false,
   "autocomplete": true,
   "bibliofile": "biblio.bib",
   "cite_by": "apalike",
   "current_citInitial": 1,
   "eqLabelWithNumbers": true,
   "eqNumInitial": 1,
   "hotkeys": {
    "equation": "Ctrl-E",
    "itemize": "Ctrl-I"
   },
   "labels_anchors": false,
   "latex_user_defs": false,
   "report_style_numbering": false,
   "user_envs_cfg": false
  }
 },
 "nbformat": 4,
 "nbformat_minor": 2
}
