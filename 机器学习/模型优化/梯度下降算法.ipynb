{
 "cells": [
  {
   "cell_type": "code",
   "execution_count": 1,
   "metadata": {},
   "outputs": [],
   "source": [
    "%matplotlib inline\n",
    "import numpy as np\n",
    "from matplotlib import pyplot as plt"
   ]
  },
  {
   "cell_type": "code",
   "execution_count": 2,
   "metadata": {},
   "outputs": [],
   "source": [
    "dataset = np.array([\n",
    "    [1, 7],\n",
    "    [2, 13],\n",
    "    [3, 17],\n",
    "    [4, 22],\n",
    "    [5, 27],\n",
    "    [6, 33],\n",
    "    [7, 38],\n",
    "    [8, 42],\n",
    "    [9, 46],\n",
    "    [10, 52]\n",
    "])"
   ]
  },
  {
   "cell_type": "code",
   "execution_count": 3,
   "metadata": {},
   "outputs": [],
   "source": [
    "x = dataset[:, 0:1]\n",
    "y = dataset[:, 1:]"
   ]
  },
  {
   "cell_type": "markdown",
   "metadata": {},
   "source": [
    "## 批量梯度下降算法"
   ]
  },
  {
   "cell_type": "code",
   "execution_count": 4,
   "metadata": {},
   "outputs": [],
   "source": [
    "def BatchGradientDescent(x, y, step=0.001, iter_count=500):\n",
    "    length, features = x.shape\n",
    "    data = np.column_stack((x, np.ones((length, 1))))\n",
    "    w = np.zeros((features + 1, 1))\n",
    "    for i in range(iter_count):\n",
    "        new_w = w.copy()\n",
    "        for feature in range(features + 1):\n",
    "            new_w[feature] = np.sum((np.dot(data, w) - y) * data[:, feature]) / length\n",
    "        w -= step * new_w        \n",
    "    return w"
   ]
  },
  {
   "cell_type": "code",
   "execution_count": 5,
   "metadata": {},
   "outputs": [
    {
     "data": {
      "text/plain": [
       "array([[5.2272],\n",
       "       [0.9504]])"
      ]
     },
     "execution_count": 5,
     "metadata": {},
     "output_type": "execute_result"
    }
   ],
   "source": [
    "BatchGradientDescent(x, y, iter_count=500)"
   ]
  },
  {
   "cell_type": "code",
   "execution_count": 6,
   "metadata": {},
   "outputs": [],
   "source": [
    "def BatchGradientDescent(x, y, step=0.001, iter_count=500):\n",
    "    length, features = x.shape\n",
    "    data = np.column_stack((x, np.ones((length, 1))))\n",
    "    w = np.zeros((features + 1, 1))\n",
    "    for i in range(iter_count):        \n",
    "        new_w = np.sum((np.dot(data, w) - y) * data, axis=0).reshape((features + 1, 1)) / length        \n",
    "        w -= step * new_w\n",
    "    return w"
   ]
  },
  {
   "cell_type": "code",
   "execution_count": 7,
   "metadata": {},
   "outputs": [
    {
     "data": {
      "text/plain": [
       "array([[5.17049008],\n",
       "       [0.92448297]])"
      ]
     },
     "execution_count": 7,
     "metadata": {},
     "output_type": "execute_result"
    }
   ],
   "source": [
    "BatchGradientDescent(x, y, iter_count=500)"
   ]
  },
  {
   "cell_type": "markdown",
   "metadata": {},
   "source": [
    "## 小批量梯度下降算法"
   ]
  },
  {
   "cell_type": "code",
   "execution_count": 8,
   "metadata": {},
   "outputs": [],
   "source": [
    "def MiniBatchGradientDescent(x, y, step=0.001, iter_count=500, batch_size=4):\n",
    "    length, features = x.shape\n",
    "    data = np.column_stack((x, np.ones((length, 1))))\n",
    "    np.random.shuffle(data)\n",
    "    w = np.zeros((features + 1, 1))\n",
    "    start, end = 0, batch_size\n",
    "    for i in range(iter_count):        \n",
    "        new_w = w.copy()\n",
    "        for feature in range(features + 1):\n",
    "            new_w[feature] = np.sum((np.dot(data[start:end], w) - y[start:end]) * data[start:end, feature]) / length\n",
    "        w -= step * new_w\n",
    "        start = (start + batch_size) % length\n",
    "        end = (end + batch_size) % length\n",
    "    return w"
   ]
  },
  {
   "cell_type": "code",
   "execution_count": 9,
   "metadata": {},
   "outputs": [
    {
     "data": {
      "text/plain": [
       "array([[3.14974219],\n",
       "       [7.21219878]])"
      ]
     },
     "execution_count": 9,
     "metadata": {},
     "output_type": "execute_result"
    }
   ],
   "source": [
    "MiniBatchGradientDescent(x, y, iter_count=2000)"
   ]
  },
  {
   "cell_type": "code",
   "execution_count": 10,
   "metadata": {},
   "outputs": [],
   "source": [
    "def MiniBatchGradientDescent(x, y, step=0.001, iter_count=500, batch_size=4):\n",
    "    length, features = x.shape\n",
    "    data = np.column_stack((x, np.ones((length, 1))))\n",
    "    w = np.zeros((features + 1, 1))\n",
    "    start, end = 0, batch_size\n",
    "    for i in range(iter_count): \n",
    "        new_w = np.sum((np.dot(data[start:end], w) - y[start:end]) * data[start:end], axis=0).reshape((features + 1, 1)) / length\n",
    "        w -= step * new_w\n",
    "        start = (start + batch_size) % length\n",
    "        end = (end + batch_size) % length\n",
    "    return w"
   ]
  },
  {
   "cell_type": "code",
   "execution_count": 11,
   "metadata": {},
   "outputs": [
    {
     "data": {
      "text/plain": [
       "array([[5.00225841],\n",
       "       [0.95765833]])"
      ]
     },
     "execution_count": 11,
     "metadata": {},
     "output_type": "execute_result"
    }
   ],
   "source": [
    "MiniBatchGradientDescent(x, y, iter_count=500)"
   ]
  },
  {
   "cell_type": "markdown",
   "metadata": {},
   "source": [
    "## 随机梯度下降算法"
   ]
  },
  {
   "cell_type": "code",
   "execution_count": 12,
   "metadata": {},
   "outputs": [],
   "source": [
    "def StochasticGradientDescent(x, y, step=0.001, iter_count=500):\n",
    "    length, features = x.shape\n",
    "    data = np.column_stack((x, np.ones((length, 1))))\n",
    "    w = np.zeros((features + 1, 1))\n",
    "#     random_ind = 0\n",
    "    for i in range(iter_count):\n",
    "        random_ind = np.random.randint(length)\n",
    "#         random_ind = (random_ind + 1) % length\n",
    "        new_w = w.copy()\n",
    "        for feature in range(features + 1):                        \n",
    "            new_w[feature] = (np.dot(data[random_ind:random_ind + 1], w) - y[random_ind]) * data[random_ind, feature] / length\n",
    "        w -= step * new_w        \n",
    "    return w"
   ]
  },
  {
   "cell_type": "code",
   "execution_count": 13,
   "metadata": {},
   "outputs": [
    {
     "data": {
      "text/plain": [
       "array([[5.09409174],\n",
       "       [0.77844559]])"
      ]
     },
     "execution_count": 13,
     "metadata": {},
     "output_type": "execute_result"
    }
   ],
   "source": [
    "StochasticGradientDescent(x, y, iter_count=1000)"
   ]
  },
  {
   "cell_type": "code",
   "execution_count": 14,
   "metadata": {},
   "outputs": [],
   "source": [
    "def StochasticGradientDescent(x, y, step=0.001, iter_count=500):\n",
    "    length, features = x.shape\n",
    "    data = np.column_stack((x, np.ones((length, 1))))\n",
    "    w = np.zeros((features + 1, 1))\n",
    "    for i in range(iter_count):\n",
    "        random_ind = np.random.randint(length)           \n",
    "        new_w = (np.dot(data[random_ind:random_ind + 1], w) - y[random_ind]) * data[random_ind] / length\n",
    "        w -= step * new_w.reshape((features + 1, 1))\n",
    "    return w"
   ]
  },
  {
   "cell_type": "code",
   "execution_count": 15,
   "metadata": {},
   "outputs": [
    {
     "data": {
      "text/plain": [
       "array([[5.08159849],\n",
       "       [0.76944698]])"
      ]
     },
     "execution_count": 15,
     "metadata": {},
     "output_type": "execute_result"
    }
   ],
   "source": [
    "StochasticGradientDescent(x, y, iter_count=1000)"
   ]
  }
 ],
 "metadata": {
  "kernelspec": {
   "display_name": "Python 3",
   "language": "python",
   "name": "python3"
  },
  "language_info": {
   "codemirror_mode": {
    "name": "ipython",
    "version": 3
   },
   "file_extension": ".py",
   "mimetype": "text/x-python",
   "name": "python",
   "nbconvert_exporter": "python",
   "pygments_lexer": "ipython3",
   "version": "3.7.1"
  },
  "latex_envs": {
   "LaTeX_envs_menu_present": true,
   "autoclose": false,
   "autocomplete": true,
   "bibliofile": "biblio.bib",
   "cite_by": "apalike",
   "current_citInitial": 1,
   "eqLabelWithNumbers": true,
   "eqNumInitial": 1,
   "hotkeys": {
    "equation": "Ctrl-E",
    "itemize": "Ctrl-I"
   },
   "labels_anchors": false,
   "latex_user_defs": false,
   "report_style_numbering": false,
   "user_envs_cfg": false
  }
 },
 "nbformat": 4,
 "nbformat_minor": 2
}
