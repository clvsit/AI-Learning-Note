{
 "cells": [
  {
   "cell_type": "markdown",
   "metadata": {},
   "source": [
    "## 在 NumPy 中实现 PCA"
   ]
  },
  {
   "cell_type": "markdown",
   "metadata": {},
   "source": [
    "将数据转换成前 N 个主成分的伪代码：\n",
    "1. 去除平均值；\n",
    "2. 计算协方差矩阵；\n",
    "3. 计算协方差矩阵的特征值和特征向量；\n",
    "4. 将特征值从大到小排序；\n",
    "5. 保留最上面的 N 个特征向量；\n",
    "6. 将数据转换到上述 N 个特征向量构建的新空间中。"
   ]
  },
  {
   "cell_type": "code",
   "execution_count": 2,
   "metadata": {},
   "outputs": [],
   "source": [
    "from numpy import *"
   ]
  },
  {
   "cell_type": "code",
   "execution_count": 3,
   "metadata": {},
   "outputs": [],
   "source": [
    "def load_dataset(filename, delim='\\t'):\n",
    "    with open(filename) as file:\n",
    "        string_arr = [line.strip().split(delim) for line in file.readlines()]\n",
    "        data_arr = [list(map(float, line)) for line in string_arr]\n",
    "        return mat(data_arr)"
   ]
  },
  {
   "cell_type": "code",
   "execution_count": 4,
   "metadata": {},
   "outputs": [],
   "source": [
    "def pca(data_mat, top_n_feat=9999999):\n",
    "    # 计算并减去原始数据集的平均值\n",
    "    mean_vals = mean(data_mat, axis=0)\n",
    "    mean_removed = data_mat - mean_vals\n",
    "    # 计算协方差矩阵及其特征值\n",
    "    cov_mat = cov(mean_removed, rowvar=0)\n",
    "    eig_vals, eig_vects = linalg.eig(mat(cov_mat))\n",
    "    # 对特征值进行升序排序\n",
    "    eig_valsl_ind = argsort(eig_vals)\n",
    "    # 根据特征值排序结果的逆序可得到 top_n_feat 个最大的特征向量\n",
    "    eig_valsl_ind = eig_valsl_ind[:-(top_n_feat + 1):-1]\n",
    "    # 获得的特征向量构成数据转换矩阵\n",
    "    red_eig_vects = eig_vects[:, eig_valsl_ind]\n",
    "    low_data_mat = mean_removed * red_eig_vects\n",
    "    recon_mat = (low_data_mat * red_eig_vects.T) + mean_vals\n",
    "    return low_data_mat, recon_mat"
   ]
  },
  {
   "cell_type": "markdown",
   "metadata": {},
   "source": [
    "pca() 函数有两个参数：\n",
    "- data_mat：用于进行 PCA 操作的数据集；\n",
    "- top_n_feat：是一个可选参数，即应用的 N 个特征。如果不指定 top_n_feat 的值，那么函数就会返回前 9999999 个特征，或者原始数据中全部的特征。"
   ]
  },
  {
   "cell_type": "code",
   "execution_count": 10,
   "metadata": {},
   "outputs": [],
   "source": [
    "data_mat = load_dataset('testSet.txt')"
   ]
  },
  {
   "cell_type": "markdown",
   "metadata": {},
   "source": [
    "首先导入一个由 1000 个数据点组成的数据集，并在该数据集上进行 PCA 操作。"
   ]
  },
  {
   "cell_type": "code",
   "execution_count": 15,
   "metadata": {},
   "outputs": [],
   "source": [
    "low_mat, recon_mat = pca(data_mat, 1)"
   ]
  },
  {
   "cell_type": "markdown",
   "metadata": {},
   "source": [
    "low_mat 包含了降维之后的矩阵，这里是一个一维矩阵。"
   ]
  },
  {
   "cell_type": "code",
   "execution_count": 16,
   "metadata": {},
   "outputs": [
    {
     "data": {
      "text/plain": [
       "(1000, 1)"
      ]
     },
     "execution_count": 16,
     "metadata": {},
     "output_type": "execute_result"
    }
   ],
   "source": [
    "shape(low_mat)"
   ]
  },
  {
   "cell_type": "markdown",
   "metadata": {},
   "source": [
    "可以通过如下命令将降维后的数据和原始数据一起绘制出来"
   ]
  },
  {
   "cell_type": "code",
   "execution_count": 19,
   "metadata": {},
   "outputs": [
    {
     "data": {
      "image/png": "[encoded data removed]",
      "text/plain": [
       "<Figure size 432x288 with 1 Axes>"
      ]
     },
     "metadata": {
      "needs_background": "light"
     },
     "output_type": "display_data"
    }
   ],
   "source": [
    "import matplotlib.pyplot as plt\n",
    "fig = plt.figure()\n",
    "ax = fig.add_subplot(111)\n",
    "ax.scatter(data_mat[:, 0].flatten().A[0], data_mat[:, 1].flatten().A[0], marker='^', s=90)\n",
    "ax.scatter(recon_mat[:, 0].flatten().A[0], recon_mat[:, 1].flatten().A[0], marker='o', s=50, c='red')\n",
    "plt.show()"
   ]
  },
  {
   "cell_type": "markdown",
   "metadata": {},
   "source": [
    "上图三角形点表示原始数据集，圆形点表示第一主成分。"
   ]
  }
 ],
 "metadata": {
  "kernelspec": {
   "display_name": "Python 3",
   "language": "python",
   "name": "python3"
  },
  "language_info": {
   "codemirror_mode": {
    "name": "ipython",
    "version": 3
   },
   "file_extension": ".py",
   "mimetype": "text/x-python",
   "name": "python",
   "nbconvert_exporter": "python",
   "pygments_lexer": "ipython3",
   "version": "3.7.1"
  },
  "latex_envs": {
   "LaTeX_envs_menu_present": true,
   "autoclose": false,
   "autocomplete": true,
   "bibliofile": "biblio.bib",
   "cite_by": "apalike",
   "current_citInitial": 1,
   "eqLabelWithNumbers": true,
   "eqNumInitial": 1,
   "hotkeys": {
    "equation": "Ctrl-E",
    "itemize": "Ctrl-I"
   },
   "labels_anchors": false,
   "latex_user_defs": false,
   "report_style_numbering": false,
   "user_envs_cfg": false
  }
 },
 "nbformat": 4,
 "nbformat_minor": 2
}
